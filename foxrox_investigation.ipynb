{
 "cells": [
  {
   "cell_type": "markdown",
   "metadata": {},
   "source": [
    "# Investigation of the FoxRox account on WPN (Winning Poker Network)\n",
    "\n",
    "Online poker, like many other industries where lots of money is involved, attracts people who will do anything it takes to make money.  Historically, even top poker sites who have dedicated security teams like PokerStars have problems with players cheating via collusion with other players at the table, hacking unsuspecting players, sharing their account with multiple people, or using automated software to make decisions for them (bots).  [In 2015](https://www.parttimepoker.com/pokerstars-plo-bot-ring-is-a-disaster-for-online-poker), a bot ring from Eastern Europe took \\\\$1.4 million dollars out of the \\\\$1/2 PLO games on PokerStars.  Game Security is a serious issue for the online poker community because without it, online poker would cease to exist.  It seems shady enough to the average human to deposit \\\\$50 to an online poker site, and it seems even shadier to do so if they're paranoid about whether or not they're playing against other humans.  Poker players try to do what they can to report offenders, but largely the responsibility of cleaning up the games rests on the poker site itself, as players don't have the ability to ban players themselves.  WPN took an interesting approach to this problem.\n",
    "\n",
    "WPN is an online poker network, host to several poker sites who merge their players pools together, including: Black Chip Poker, True Poker, and America's Cardroom.  This is an important network in the online poker world because of its inclusion of America's Cardroom, also known as ACR.  ACR is the largest poker site that allows Americans to play (hence its name), therefore making WPN the go-to place to play online poker for Americans, as well being a very nice option for players throughout the rest of the world that have access to WPN.\n",
    "\n",
    "On April 8th, 2019, Eric Collier, a poker player who streams his gameplay on the popular streaming site [Twitch](https://www.twitch.tv/directory/game/Poker), was heads-up (in the final 2) of a \\$15 poker tournament.  Under the his alias \"ThaKemist\", he ended up [winning](https://www.sharkscope.com/#Find-Tournament//networks/WPN/tournaments/9563589) the tournament for \\\\$2,388, but not without controversy.  His opponent, FoxRox, exhibited very unhuman-like behavior.  You can read more about the match [here](https://f5poker.com/poker-news/2019/4/11/bot-detected-americas-cardroom-during-twitch-stream/).  The behavior exhibted by the bot isn't our focal point, but how ACR dealt with this issue.  The following images are from a twitter [thread](https://twitter.com/acr_poker/status/1115290003423268865?lang=en), iniated by ThaKemist (@TABLECAPTAINN on twitter) to document his experience with an obvious bot.\n",
    "\n",
    "---\n",
    "\n",
    "![Image](https://i.imgur.com/p1oMIrW.jpg)\n",
    "![Image](https://i.imgur.com/Je2JDPZ.jpg)"
   ]
  },
  {
   "cell_type": "markdown",
   "metadata": {},
   "source": [
    "---\n",
    "\n",
    "ACR ultimately [decided](https://www.legaluspokersites.com/news/americas-cardroom-continues-online-poker-bot-crackdown/18460/) to not only make the reimbursement amounts public, but also make some game data from the banned accounts [available to the public](https://www.winningpokernetwork.com/banned-accounts/). Here is a screenshot of some of the top offendors from their website:\n",
    "\n",
    "---"
   ]
  },
  {
   "cell_type": "markdown",
   "metadata": {},
   "source": [
    "![Image](https://i.imgur.com/DV1PyN1.jpg)"
   ]
  },
  {
   "cell_type": "markdown",
   "metadata": {},
   "source": [
    "---\n",
    "\n",
    "Per their reimbursment policy, the cap reimbursment to the community per offender is \\\\$25,000, except for our friend FoxRox.  Over \\\\$175k was given back to players affected by FoxRox on WPN, with 1.3% of players on the site haven been cheated by this player (this is probably a rather large number, in perhaps the tens of thousands of players).  Under the Downloads column for FoxRox, we have a couple of Excel files containing game data from his tournament play.  Let's open them up, shall we?"
   ]
  },
  {
   "cell_type": "code",
   "execution_count": 51,
   "metadata": {},
   "outputs": [],
   "source": [
    "import pandas as pd\n",
    "import numpy as np\n",
    "import matplotlib.pyplot as plt\n",
    "import datetime as dt"
   ]
  },
  {
   "cell_type": "code",
   "execution_count": 52,
   "metadata": {},
   "outputs": [
    {
     "name": "stdout",
     "output_type": "stream",
     "text": [
      "Number of rows: 553101\n"
     ]
    },
    {
     "data": {
      "text/html": [
       "<div>\n",
       "<style scoped>\n",
       "    .dataframe tbody tr th:only-of-type {\n",
       "        vertical-align: middle;\n",
       "    }\n",
       "\n",
       "    .dataframe tbody tr th {\n",
       "        vertical-align: top;\n",
       "    }\n",
       "\n",
       "    .dataframe thead th {\n",
       "        text-align: right;\n",
       "    }\n",
       "</style>\n",
       "<table border=\"1\" class=\"dataframe\">\n",
       "  <thead>\n",
       "    <tr style=\"text-align: right;\">\n",
       "      <th></th>\n",
       "      <th>TournamentName</th>\n",
       "      <th>TournamentId</th>\n",
       "      <th>StartDate</th>\n",
       "      <th>Nickname</th>\n",
       "      <th>FinishPlace</th>\n",
       "      <th>Award</th>\n",
       "    </tr>\n",
       "  </thead>\n",
       "  <tbody>\n",
       "    <tr>\n",
       "      <th>0</th>\n",
       "      <td>PHAT BIG10 - $15,000 GTD</td>\n",
       "      <td>8738624</td>\n",
       "      <td>6/15/2018 0:00</td>\n",
       "      <td>GrinderTiltOff</td>\n",
       "      <td>1</td>\n",
       "      <td>3587.50</td>\n",
       "    </tr>\n",
       "    <tr>\n",
       "      <th>1</th>\n",
       "      <td>PHAT BIG10 - $15,000 GTD</td>\n",
       "      <td>8738624</td>\n",
       "      <td>6/15/2018 0:00</td>\n",
       "      <td>SimSalabim</td>\n",
       "      <td>2</td>\n",
       "      <td>2231.25</td>\n",
       "    </tr>\n",
       "    <tr>\n",
       "      <th>2</th>\n",
       "      <td>PHAT BIG10 - $15,000 GTD</td>\n",
       "      <td>8738624</td>\n",
       "      <td>6/15/2018 0:00</td>\n",
       "      <td>lepewpew</td>\n",
       "      <td>3</td>\n",
       "      <td>1575.00</td>\n",
       "    </tr>\n",
       "    <tr>\n",
       "      <th>3</th>\n",
       "      <td>PHAT BIG10 - $15,000 GTD</td>\n",
       "      <td>8738624</td>\n",
       "      <td>6/15/2018 0:00</td>\n",
       "      <td>HipllteMeRunoGod</td>\n",
       "      <td>4</td>\n",
       "      <td>1172.50</td>\n",
       "    </tr>\n",
       "    <tr>\n",
       "      <th>4</th>\n",
       "      <td>PHAT BIG10 - $15,000 GTD</td>\n",
       "      <td>8738624</td>\n",
       "      <td>6/15/2018 0:00</td>\n",
       "      <td>MN_KVANG</td>\n",
       "      <td>5</td>\n",
       "      <td>910.00</td>\n",
       "    </tr>\n",
       "  </tbody>\n",
       "</table>\n",
       "</div>"
      ],
      "text/plain": [
       "             TournamentName  TournamentId       StartDate          Nickname  \\\n",
       "0  PHAT BIG10 - $15,000 GTD       8738624  6/15/2018 0:00    GrinderTiltOff   \n",
       "1  PHAT BIG10 - $15,000 GTD       8738624  6/15/2018 0:00        SimSalabim   \n",
       "2  PHAT BIG10 - $15,000 GTD       8738624  6/15/2018 0:00          lepewpew   \n",
       "3  PHAT BIG10 - $15,000 GTD       8738624  6/15/2018 0:00  HipllteMeRunoGod   \n",
       "4  PHAT BIG10 - $15,000 GTD       8738624  6/15/2018 0:00          MN_KVANG   \n",
       "\n",
       "   FinishPlace    Award  \n",
       "0            1  3587.50  \n",
       "1            2  2231.25  \n",
       "2            3  1575.00  \n",
       "3            4  1172.50  \n",
       "4            5   910.00  "
      ]
     },
     "execution_count": 52,
     "metadata": {},
     "output_type": "execute_result"
    }
   ],
   "source": [
    "mtt_one = pd.read_csv('wpn-foxrox-file1.csv')\n",
    "print(\"Number of rows: \"+str(len(mtt_one)))\n",
    "mtt_one.head(5)"
   ]
  },
  {
   "cell_type": "code",
   "execution_count": 53,
   "metadata": {},
   "outputs": [
    {
     "name": "stdout",
     "output_type": "stream",
     "text": [
      "<class 'pandas.core.frame.DataFrame'>\n",
      "RangeIndex: 553101 entries, 0 to 553100\n",
      "Data columns (total 6 columns):\n",
      "TournamentName    553101 non-null object\n",
      "TournamentId      553101 non-null int64\n",
      "StartDate         553101 non-null object\n",
      "Nickname          553101 non-null object\n",
      "FinishPlace       553101 non-null int64\n",
      "Award             553101 non-null float64\n",
      "dtypes: float64(1), int64(2), object(3)\n",
      "memory usage: 25.3+ MB\n"
     ]
    }
   ],
   "source": [
    "mtt_one.info()"
   ]
  },
  {
   "cell_type": "markdown",
   "metadata": {},
   "source": [
    "Wow, 553,000+ rows, and it's only the first file.  It seems to carry not only the results of FoxRox, but the results of his opponents in all the tournaments he played in as well.  This is merely an assumption at the moment, let's try compiling and sorting the data to confirm this."
   ]
  },
  {
   "cell_type": "code",
   "execution_count": 54,
   "metadata": {},
   "outputs": [
    {
     "data": {
      "text/html": [
       "<div>\n",
       "<style scoped>\n",
       "    .dataframe tbody tr th:only-of-type {\n",
       "        vertical-align: middle;\n",
       "    }\n",
       "\n",
       "    .dataframe tbody tr th {\n",
       "        vertical-align: top;\n",
       "    }\n",
       "\n",
       "    .dataframe thead th {\n",
       "        text-align: right;\n",
       "    }\n",
       "</style>\n",
       "<table border=\"1\" class=\"dataframe\">\n",
       "  <thead>\n",
       "    <tr style=\"text-align: right;\">\n",
       "      <th></th>\n",
       "      <th>TournamentName</th>\n",
       "      <th>TournamentId</th>\n",
       "      <th>StartDate</th>\n",
       "      <th>Nickname</th>\n",
       "      <th>FinishPlace</th>\n",
       "      <th>Award</th>\n",
       "    </tr>\n",
       "  </thead>\n",
       "  <tbody>\n",
       "    <tr>\n",
       "      <th>1062892</th>\n",
       "      <td>$500 GTD R/A</td>\n",
       "      <td>9564347</td>\n",
       "      <td>4/8/2019 5:00</td>\n",
       "      <td>robmcguire</td>\n",
       "      <td>70</td>\n",
       "      <td>0.0</td>\n",
       "    </tr>\n",
       "    <tr>\n",
       "      <th>1062893</th>\n",
       "      <td>$500 GTD R/A</td>\n",
       "      <td>9564347</td>\n",
       "      <td>4/8/2019 5:00</td>\n",
       "      <td>joydivizion</td>\n",
       "      <td>71</td>\n",
       "      <td>0.0</td>\n",
       "    </tr>\n",
       "    <tr>\n",
       "      <th>1062894</th>\n",
       "      <td>$500 GTD R/A</td>\n",
       "      <td>9564347</td>\n",
       "      <td>4/8/2019 5:00</td>\n",
       "      <td>vegasbound10</td>\n",
       "      <td>72</td>\n",
       "      <td>0.0</td>\n",
       "    </tr>\n",
       "    <tr>\n",
       "      <th>1062895</th>\n",
       "      <td>$500 GTD R/A</td>\n",
       "      <td>9564347</td>\n",
       "      <td>4/8/2019 5:00</td>\n",
       "      <td>qu33n b33</td>\n",
       "      <td>73</td>\n",
       "      <td>0.0</td>\n",
       "    </tr>\n",
       "    <tr>\n",
       "      <th>1062896</th>\n",
       "      <td>$500 GTD R/A</td>\n",
       "      <td>9564347</td>\n",
       "      <td>4/8/2019 5:00</td>\n",
       "      <td>jgallo23</td>\n",
       "      <td>74</td>\n",
       "      <td>0.0</td>\n",
       "    </tr>\n",
       "  </tbody>\n",
       "</table>\n",
       "</div>"
      ],
      "text/plain": [
       "        TournamentName  TournamentId      StartDate      Nickname  \\\n",
       "1062892   $500 GTD R/A       9564347  4/8/2019 5:00    robmcguire   \n",
       "1062893   $500 GTD R/A       9564347  4/8/2019 5:00   joydivizion   \n",
       "1062894   $500 GTD R/A       9564347  4/8/2019 5:00  vegasbound10   \n",
       "1062895   $500 GTD R/A       9564347  4/8/2019 5:00     qu33n b33   \n",
       "1062896   $500 GTD R/A       9564347  4/8/2019 5:00      jgallo23   \n",
       "\n",
       "         FinishPlace  Award  \n",
       "1062892           70    0.0  \n",
       "1062893           71    0.0  \n",
       "1062894           72    0.0  \n",
       "1062895           73    0.0  \n",
       "1062896           74    0.0  "
      ]
     },
     "execution_count": 54,
     "metadata": {},
     "output_type": "execute_result"
    }
   ],
   "source": [
    "mtt_two = pd.read_csv('wpn-foxrox-file2.csv')\n",
    "main_pd = pd.concat([mtt_one, mtt_two], ignore_index=True)\n",
    "\n",
    "main_pd.tail(5)"
   ]
  },
  {
   "cell_type": "code",
   "execution_count": 55,
   "metadata": {},
   "outputs": [
    {
     "name": "stdout",
     "output_type": "stream",
     "text": [
      "<class 'pandas.core.frame.DataFrame'>\n",
      "RangeIndex: 1062897 entries, 0 to 1062896\n",
      "Data columns (total 6 columns):\n",
      "TournamentName    1062897 non-null object\n",
      "TournamentId      1062897 non-null int64\n",
      "StartDate         1062897 non-null object\n",
      "Nickname          1062897 non-null object\n",
      "FinishPlace       1062897 non-null int64\n",
      "Award             1062897 non-null float64\n",
      "dtypes: float64(1), int64(2), object(3)\n",
      "memory usage: 48.7+ MB\n"
     ]
    }
   ],
   "source": [
    "main_pd.info()"
   ]
  },
  {
   "cell_type": "markdown",
   "metadata": {},
   "source": [
    "Now that we have combined the dataframes to over 1,000,000 rows, let's think about which parts of the data will be useful:\n",
    "* **TournamentName** and **TournamentID** both seem useful in comparing results from FoxRox to other players, as we can use the df.groupby() or df.pivot_table() methods for this.  TournamentName is the name of the tournament (many of these are daily/weekly), and TournamentID is the individual ID of a specific tournament.  One TournamentName will have a new TournamentID every time it runs.\n",
    "* **StartDate** will be useful in visualizing FoxRox and other player's winnings over time.  It is currently in string format, and we will conver this into datetime format before filtering further.\n",
    "* **Nickname** is obviously a critical column, and we can filter results with this column the same way we can with Tournament Name/ID.\n",
    "* **FinishPlace** and **Award** show the place in which the player (nickname) finished and how much money was won, respectively.  FinishPlace is in integer format, and Award is in float format.\n",
    "\n",
    "Let's convert the StartDate column to datetime format."
   ]
  },
  {
   "cell_type": "code",
   "execution_count": 56,
   "metadata": {},
   "outputs": [
    {
     "data": {
      "text/plain": [
       "0   2018-06-15\n",
       "1   2018-06-15\n",
       "2   2018-06-15\n",
       "3   2018-06-15\n",
       "4   2018-06-15\n",
       "Name: StartDate, dtype: datetime64[ns]"
      ]
     },
     "execution_count": 56,
     "metadata": {},
     "output_type": "execute_result"
    }
   ],
   "source": [
    "# make new series with just the converted datetimes\n",
    "just_dates = pd.to_datetime(main_pd['StartDate'])\n",
    "just_dates.head(5)"
   ]
  },
  {
   "cell_type": "code",
   "execution_count": 57,
   "metadata": {},
   "outputs": [
    {
     "name": "stdout",
     "output_type": "stream",
     "text": [
      "<class 'pandas._libs.tslibs.timestamps.Timestamp'>\n"
     ]
    },
    {
     "data": {
      "text/html": [
       "<div>\n",
       "<style scoped>\n",
       "    .dataframe tbody tr th:only-of-type {\n",
       "        vertical-align: middle;\n",
       "    }\n",
       "\n",
       "    .dataframe tbody tr th {\n",
       "        vertical-align: top;\n",
       "    }\n",
       "\n",
       "    .dataframe thead th {\n",
       "        text-align: right;\n",
       "    }\n",
       "</style>\n",
       "<table border=\"1\" class=\"dataframe\">\n",
       "  <thead>\n",
       "    <tr style=\"text-align: right;\">\n",
       "      <th></th>\n",
       "      <th>TournamentName</th>\n",
       "      <th>TournamentId</th>\n",
       "      <th>StartDate</th>\n",
       "      <th>Nickname</th>\n",
       "      <th>FinishPlace</th>\n",
       "      <th>Award</th>\n",
       "    </tr>\n",
       "  </thead>\n",
       "  <tbody>\n",
       "    <tr>\n",
       "      <th>0</th>\n",
       "      <td>PHAT BIG10 - $15,000 GTD</td>\n",
       "      <td>8738624</td>\n",
       "      <td>2018-06-15</td>\n",
       "      <td>GrinderTiltOff</td>\n",
       "      <td>1</td>\n",
       "      <td>3587.50</td>\n",
       "    </tr>\n",
       "    <tr>\n",
       "      <th>1</th>\n",
       "      <td>PHAT BIG10 - $15,000 GTD</td>\n",
       "      <td>8738624</td>\n",
       "      <td>2018-06-15</td>\n",
       "      <td>SimSalabim</td>\n",
       "      <td>2</td>\n",
       "      <td>2231.25</td>\n",
       "    </tr>\n",
       "    <tr>\n",
       "      <th>2</th>\n",
       "      <td>PHAT BIG10 - $15,000 GTD</td>\n",
       "      <td>8738624</td>\n",
       "      <td>2018-06-15</td>\n",
       "      <td>lepewpew</td>\n",
       "      <td>3</td>\n",
       "      <td>1575.00</td>\n",
       "    </tr>\n",
       "    <tr>\n",
       "      <th>3</th>\n",
       "      <td>PHAT BIG10 - $15,000 GTD</td>\n",
       "      <td>8738624</td>\n",
       "      <td>2018-06-15</td>\n",
       "      <td>HipllteMeRunoGod</td>\n",
       "      <td>4</td>\n",
       "      <td>1172.50</td>\n",
       "    </tr>\n",
       "    <tr>\n",
       "      <th>4</th>\n",
       "      <td>PHAT BIG10 - $15,000 GTD</td>\n",
       "      <td>8738624</td>\n",
       "      <td>2018-06-15</td>\n",
       "      <td>MN_KVANG</td>\n",
       "      <td>5</td>\n",
       "      <td>910.00</td>\n",
       "    </tr>\n",
       "  </tbody>\n",
       "</table>\n",
       "</div>"
      ],
      "text/plain": [
       "             TournamentName  TournamentId  StartDate          Nickname  \\\n",
       "0  PHAT BIG10 - $15,000 GTD       8738624 2018-06-15    GrinderTiltOff   \n",
       "1  PHAT BIG10 - $15,000 GTD       8738624 2018-06-15        SimSalabim   \n",
       "2  PHAT BIG10 - $15,000 GTD       8738624 2018-06-15          lepewpew   \n",
       "3  PHAT BIG10 - $15,000 GTD       8738624 2018-06-15  HipllteMeRunoGod   \n",
       "4  PHAT BIG10 - $15,000 GTD       8738624 2018-06-15          MN_KVANG   \n",
       "\n",
       "   FinishPlace    Award  \n",
       "0            1  3587.50  \n",
       "1            2  2231.25  \n",
       "2            3  1575.00  \n",
       "3            4  1172.50  \n",
       "4            5   910.00  "
      ]
     },
     "execution_count": 57,
     "metadata": {},
     "output_type": "execute_result"
    }
   ],
   "source": [
    "# change StartDate to the converted datetimes\n",
    "main_pd['StartDate'] = just_dates\n",
    "print(type(main_pd.iloc[0,2]))\n",
    "main_pd.head(5)"
   ]
  },
  {
   "cell_type": "code",
   "execution_count": 58,
   "metadata": {},
   "outputs": [
    {
     "data": {
      "text/html": [
       "<div>\n",
       "<style scoped>\n",
       "    .dataframe tbody tr th:only-of-type {\n",
       "        vertical-align: middle;\n",
       "    }\n",
       "\n",
       "    .dataframe tbody tr th {\n",
       "        vertical-align: top;\n",
       "    }\n",
       "\n",
       "    .dataframe thead th {\n",
       "        text-align: right;\n",
       "    }\n",
       "</style>\n",
       "<table border=\"1\" class=\"dataframe\">\n",
       "  <thead>\n",
       "    <tr style=\"text-align: right;\">\n",
       "      <th></th>\n",
       "      <th>TournamentName</th>\n",
       "      <th>TournamentId</th>\n",
       "      <th>StartDate</th>\n",
       "      <th>Nickname</th>\n",
       "      <th>FinishPlace</th>\n",
       "      <th>Award</th>\n",
       "    </tr>\n",
       "  </thead>\n",
       "  <tbody>\n",
       "    <tr>\n",
       "      <th>87</th>\n",
       "      <td>PHAT BIG10 - $15,000 GTD</td>\n",
       "      <td>8738624</td>\n",
       "      <td>2018-06-15 00:00:00</td>\n",
       "      <td>FoxRox</td>\n",
       "      <td>88</td>\n",
       "      <td>0.00</td>\n",
       "    </tr>\n",
       "    <tr>\n",
       "      <th>262</th>\n",
       "      <td>$2,000 GTD</td>\n",
       "      <td>8738673</td>\n",
       "      <td>2018-06-15 00:10:00</td>\n",
       "      <td>FoxRox</td>\n",
       "      <td>29</td>\n",
       "      <td>13.89</td>\n",
       "    </tr>\n",
       "    <tr>\n",
       "      <th>599</th>\n",
       "      <td>TURBO10 - $2,000 GTD Superstack</td>\n",
       "      <td>8738726</td>\n",
       "      <td>2018-06-15 00:30:00</td>\n",
       "      <td>FoxRox</td>\n",
       "      <td>43</td>\n",
       "      <td>0.00</td>\n",
       "    </tr>\n",
       "    <tr>\n",
       "      <th>775</th>\n",
       "      <td>BIG10 - $2,000 GTD 6 Max</td>\n",
       "      <td>8738802</td>\n",
       "      <td>2018-06-15 01:00:00</td>\n",
       "      <td>FoxRox</td>\n",
       "      <td>100</td>\n",
       "      <td>0.00</td>\n",
       "    </tr>\n",
       "    <tr>\n",
       "      <th>1010</th>\n",
       "      <td>$5,000 GTD</td>\n",
       "      <td>8738867</td>\n",
       "      <td>2018-06-15 01:15:00</td>\n",
       "      <td>FoxRox</td>\n",
       "      <td>109</td>\n",
       "      <td>0.00</td>\n",
       "    </tr>\n",
       "  </tbody>\n",
       "</table>\n",
       "</div>"
      ],
      "text/plain": [
       "                       TournamentName  TournamentId           StartDate  \\\n",
       "87           PHAT BIG10 - $15,000 GTD       8738624 2018-06-15 00:00:00   \n",
       "262                        $2,000 GTD       8738673 2018-06-15 00:10:00   \n",
       "599   TURBO10 - $2,000 GTD Superstack       8738726 2018-06-15 00:30:00   \n",
       "775          BIG10 - $2,000 GTD 6 Max       8738802 2018-06-15 01:00:00   \n",
       "1010                       $5,000 GTD       8738867 2018-06-15 01:15:00   \n",
       "\n",
       "     Nickname  FinishPlace  Award  \n",
       "87     FoxRox           88   0.00  \n",
       "262    FoxRox           29  13.89  \n",
       "599    FoxRox           43   0.00  \n",
       "775    FoxRox          100   0.00  \n",
       "1010   FoxRox          109   0.00  "
      ]
     },
     "execution_count": 58,
     "metadata": {},
     "output_type": "execute_result"
    }
   ],
   "source": [
    "# making a dataframe that shows only entries for FoxRox\n",
    "fr_pd = main_pd[main_pd[\"Nickname\"] == \"FoxRox\"]\n",
    "fr_pd.drop_duplicates()\n",
    "fr_pd.head(5)"
   ]
  },
  {
   "cell_type": "code",
   "execution_count": 59,
   "metadata": {},
   "outputs": [
    {
     "name": "stdout",
     "output_type": "stream",
     "text": [
      "<class 'pandas.core.frame.DataFrame'>\n",
      "Int64Index: 4587 entries, 87 to 1062888\n",
      "Data columns (total 6 columns):\n",
      "TournamentName    4587 non-null object\n",
      "TournamentId      4587 non-null int64\n",
      "StartDate         4587 non-null datetime64[ns]\n",
      "Nickname          4587 non-null object\n",
      "FinishPlace       4587 non-null int64\n",
      "Award             4587 non-null float64\n",
      "dtypes: datetime64[ns](1), float64(1), int64(2), object(2)\n",
      "memory usage: 250.9+ KB\n"
     ]
    }
   ],
   "source": [
    "fr_pd.info()"
   ]
  },
  {
   "cell_type": "markdown",
   "metadata": {},
   "source": [
    "There are 4,587 tournament result entries here for FoxRox. This seems to indicate that we have a near complete or complete set of results for this player, especially when you match it up with their [sharkscope results](https://www.sharkscope.com/#Player-Statistics//networks/WPN/players/FoxRox) which showed 4,534 results, a fairly close number to the one we have."
   ]
  },
  {
   "cell_type": "code",
   "execution_count": 63,
   "metadata": {},
   "outputs": [
    {
     "data": {
      "text/html": [
       "<div>\n",
       "<style scoped>\n",
       "    .dataframe tbody tr th:only-of-type {\n",
       "        vertical-align: middle;\n",
       "    }\n",
       "\n",
       "    .dataframe tbody tr th {\n",
       "        vertical-align: top;\n",
       "    }\n",
       "\n",
       "    .dataframe thead th {\n",
       "        text-align: right;\n",
       "    }\n",
       "</style>\n",
       "<table border=\"1\" class=\"dataframe\">\n",
       "  <thead>\n",
       "    <tr style=\"text-align: right;\">\n",
       "      <th></th>\n",
       "      <th>Award</th>\n",
       "      <th>FinishPlace</th>\n",
       "    </tr>\n",
       "    <tr>\n",
       "      <th>TournamentName</th>\n",
       "      <th></th>\n",
       "      <th></th>\n",
       "    </tr>\n",
       "  </thead>\n",
       "  <tbody>\n",
       "    <tr>\n",
       "      <th>$1,000 GTD</th>\n",
       "      <td>24.451000</td>\n",
       "      <td>132.800000</td>\n",
       "    </tr>\n",
       "    <tr>\n",
       "      <th>$1,000 GTD - Hyper Turbo MEGA STACK</th>\n",
       "      <td>2.566667</td>\n",
       "      <td>90.733333</td>\n",
       "    </tr>\n",
       "    <tr>\n",
       "      <th>$1,000 GTD 6-Max</th>\n",
       "      <td>48.375000</td>\n",
       "      <td>21.250000</td>\n",
       "    </tr>\n",
       "    <tr>\n",
       "      <th>$1,000 GTD 8 max</th>\n",
       "      <td>6.490000</td>\n",
       "      <td>29.000000</td>\n",
       "    </tr>\n",
       "    <tr>\n",
       "      <th>$1,000 GTD 8-Max</th>\n",
       "      <td>39.304390</td>\n",
       "      <td>78.951220</td>\n",
       "    </tr>\n",
       "  </tbody>\n",
       "</table>\n",
       "</div>"
      ],
      "text/plain": [
       "                                         Award  FinishPlace\n",
       "TournamentName                                             \n",
       "$1,000 GTD                           24.451000   132.800000\n",
       "$1,000 GTD - Hyper Turbo MEGA STACK   2.566667    90.733333\n",
       "$1,000 GTD 6-Max                     48.375000    21.250000\n",
       "$1,000 GTD 8 max                      6.490000    29.000000\n",
       "$1,000 GTD 8-Max                     39.304390    78.951220"
      ]
     },
     "execution_count": 63,
     "metadata": {},
     "output_type": "execute_result"
    }
   ],
   "source": [
    "# grouping data, starting with TournamentName\n",
    "\n",
    "fr_tournament_pivot = fr_pd.pivot_table(values=[\"FinishPlace\", \"Award\"], index='TournamentName')\n",
    "fr_tournament_pivot.head(5)"
   ]
  },
  {
   "cell_type": "markdown",
   "metadata": {},
   "source": [
    "Looking above,fix names"
   ]
  },
  {
   "cell_type": "code",
   "execution_count": 64,
   "metadata": {
    "collapsed": true
   },
   "outputs": [
    {
     "name": "stdout",
     "output_type": "stream",
     "text": [
      "110.72204054937868\n"
     ]
    },
    {
     "ename": "NameError",
     "evalue": "name 'fr' is not defined",
     "output_type": "error",
     "traceback": [
      "\u001b[1;31m---------------------------------------------------------------------------\u001b[0m",
      "\u001b[1;31mNameError\u001b[0m                                 Traceback (most recent call last)",
      "\u001b[1;32m<ipython-input-64-c1671e9ae651>\u001b[0m in \u001b[0;36m<module>\u001b[1;34m\u001b[0m\n\u001b[0;32m      4\u001b[0m \u001b[1;33m\u001b[0m\u001b[0m\n\u001b[0;32m      5\u001b[0m \u001b[1;31m# average award and highest\u001b[0m\u001b[1;33m\u001b[0m\u001b[1;33m\u001b[0m\u001b[0m\n\u001b[1;32m----> 6\u001b[1;33m \u001b[0mfr\u001b[0m\u001b[1;33m\u001b[0m\u001b[0m\n\u001b[0m\u001b[0;32m      7\u001b[0m \u001b[1;33m\u001b[0m\u001b[0m\n\u001b[0;32m      8\u001b[0m \u001b[1;31m# longest losing streak\u001b[0m\u001b[1;33m\u001b[0m\u001b[1;33m\u001b[0m\u001b[0m\n",
      "\u001b[1;31mNameError\u001b[0m: name 'fr' is not defined"
     ]
    }
   ],
   "source": [
    "# average finish\n",
    "fr_avg_finish = fr_pd['FinishPlace'].mean()\n",
    "print(fr_avg_finish)\n",
    "\n",
    "# average award and highest\n",
    "fr\n",
    "\n",
    "# longest losing streak\n",
    "\n",
    "# total won, biggest profit day, worst losing day\n",
    "\n",
    "# profit by day and month\n",
    "\n",
    "# avg profit per tournament, total profit per tournament\n",
    "\n",
    "# "
   ]
  },
  {
   "cell_type": "code",
   "execution_count": null,
   "metadata": {},
   "outputs": [],
   "source": []
  }
 ],
 "metadata": {
  "kernelspec": {
   "display_name": "Python 3",
   "language": "python",
   "name": "python3"
  },
  "language_info": {
   "codemirror_mode": {
    "name": "ipython",
    "version": 3
   },
   "file_extension": ".py",
   "mimetype": "text/x-python",
   "name": "python",
   "nbconvert_exporter": "python",
   "pygments_lexer": "ipython3",
   "version": "3.6.0"
  }
 },
 "nbformat": 4,
 "nbformat_minor": 2
}
